{
  "nbformat": 4,
  "nbformat_minor": 0,
  "metadata": {
    "colab": {
      "name": "Tarea4EC.ipynb",
      "provenance": [],
      "authorship_tag": "ABX9TyNxIfFUq7sN/aaOEXb681gC",
      "include_colab_link": true
    },
    "kernelspec": {
      "name": "python3",
      "display_name": "Python 3"
    },
    "language_info": {
      "name": "python"
    }
  },
  "cells": [
    {
      "cell_type": "markdown",
      "metadata": {
        "id": "view-in-github",
        "colab_type": "text"
      },
      "source": [
        "<a href=\"https://colab.research.google.com/github/DiegoLeonelLop/Tarea2_/blob/main/Tarea4EC.ipynb\" target=\"_parent\"><img src=\"https://colab.research.google.com/assets/colab-badge.svg\" alt=\"Open In Colab\"/></a>"
      ]
    },
    {
      "cell_type": "code",
      "metadata": {
        "id": "kVu9Ll4HjKrA",
        "colab": {
          "base_uri": "https://localhost:8080/"
        },
        "outputId": "85879ad3-448e-4262-9b91-387ec22b6190"
      },
      "source": [
        "a = float(input('Introduce el valor de a:'))\n",
        "b = float(input('Introduce el valor de b:'))\n",
        "c = float(input('Introduce el valor de c:'))\n",
        "\n",
        "x1=(-b+(((b*b)-(4*a*c))**0.5))/(2*a)\n",
        "x2=(-b-(((b*b)-(4*a*c))**0.5))/(2*a)\n",
        "\n",
        "print('El valor de x1 es:')\n",
        "print(x1)\n",
        "\n",
        "print('El valor de x2 es:')\n",
        "print(x2)\n"
      ],
      "execution_count": 16,
      "outputs": [
        {
          "output_type": "stream",
          "name": "stdout",
          "text": [
            "Introduce el valor de a:4\n",
            "Introduce el valor de b:9\n",
            "Introduce el valor de c:-8\n",
            "El valor de x1 es:\n",
            "0.6821040368501201\n",
            "El valor de x2 es:\n",
            "-2.93210403685012\n"
          ]
        }
      ]
    }
  ]
}