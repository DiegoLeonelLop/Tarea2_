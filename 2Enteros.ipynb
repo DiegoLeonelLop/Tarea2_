{
  "nbformat": 4,
  "nbformat_minor": 0,
  "metadata": {
    "colab": {
      "name": "2Enteros.ipynb",
      "provenance": []
    },
    "kernelspec": {
      "name": "python3",
      "display_name": "Python 3"
    },
    "language_info": {
      "name": "python"
    }
  },
  "cells": [
    {
      "cell_type": "code",
      "metadata": {
        "colab": {
          "base_uri": "https://localhost:8080/"
        },
        "id": "Xf2dfGxBm4DA",
        "outputId": "41f45da3-6d7b-43d5-ab0c-3aa3b417c53e"
      },
      "source": [
        "def suma(numero):\n",
        "    if numero == 0:\n",
        "        return 0\n",
        "    else:\n",
        "        return numero % 10 + suma(numero // 10)\n",
        "print(suma(333))\n"
      ],
      "execution_count": 1,
      "outputs": [
        {
          "output_type": "stream",
          "name": "stdout",
          "text": [
            "9\n"
          ]
        }
      ]
    }
  ]
}