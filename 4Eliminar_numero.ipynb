{
  "nbformat": 4,
  "nbformat_minor": 0,
  "metadata": {
    "colab": {
      "name": "4Eliminar_numero.ipynb",
      "provenance": []
    },
    "kernelspec": {
      "name": "python3",
      "display_name": "Python 3"
    },
    "language_info": {
      "name": "python"
    }
  },
  "cells": [
    {
      "cell_type": "code",
      "metadata": {
        "colab": {
          "base_uri": "https://localhost:8080/"
        },
        "id": "YBH3VKS_0D_c",
        "outputId": "9bc6e727-3d64-4261-8000-994558632c68"
      },
      "source": [
        "listaFrutas = ['Uva', 'Pera','Manzana','Piña', 'Fresa',]\n",
        "\n",
        "print('Cantidad de elementos: %d' % len(listaFrutas))\n",
        "\n",
        "del listaFrutas[2]\n",
        "print('Cantidad de elementos: %d' % len(listaFrutas))\n",
        "del listaFrutas[3]"
      ],
      "execution_count": 3,
      "outputs": [
        {
          "output_type": "stream",
          "name": "stdout",
          "text": [
            "Cantidad de elementos: 5\n",
            "Cantidad de elementos: 4\n"
          ]
        }
      ]
    }
  ]
}