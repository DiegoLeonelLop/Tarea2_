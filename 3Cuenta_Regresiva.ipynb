{
  "nbformat": 4,
  "nbformat_minor": 0,
  "metadata": {
    "colab": {
      "name": "3Cuenta_Regresiva.ipynb",
      "provenance": []
    },
    "kernelspec": {
      "name": "python3",
      "display_name": "Python 3"
    },
    "language_info": {
      "name": "python"
    }
  },
  "cells": [
    {
      "cell_type": "code",
      "metadata": {
        "colab": {
          "base_uri": "https://localhost:8080/"
        },
        "id": "05wOcLAFotgu",
        "outputId": "7dc35dbb-07f0-43b4-c512-4aacb7eda11f"
      },
      "source": [
        "import time\n",
        "\n",
        "numeros = [5,4,3,2,1,0]\n",
        "for n in numeros:\n",
        "    print(n)\n",
        "    time.sleep(1)\n",
        "print('BOOMMMMM!!!')"
      ],
      "execution_count": 2,
      "outputs": [
        {
          "output_type": "stream",
          "name": "stdout",
          "text": [
            "5\n",
            "4\n",
            "3\n",
            "2\n",
            "1\n",
            "0\n",
            "BOOMMMMM!!!\n"
          ]
        }
      ]
    }
  ]
}