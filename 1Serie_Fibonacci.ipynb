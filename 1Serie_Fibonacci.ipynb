{
  "nbformat": 4,
  "nbformat_minor": 0,
  "metadata": {
    "colab": {
      "name": "1Serie_Fibonacci.ipynb",
      "provenance": []
    },
    "kernelspec": {
      "name": "python3",
      "display_name": "Python 3"
    },
    "language_info": {
      "name": "python"
    }
  },
  "cells": [
    {
      "cell_type": "code",
      "metadata": {
        "colab": {
          "base_uri": "https://localhost:8080/"
        },
        "id": "G82v55a241Iq",
        "outputId": "258964d0-60fc-4a9a-bd5c-4e035bc4903c"
      },
      "source": [
        "def Fibo( n ):\n",
        "    #if  == 0:\n",
        "     #return 0\n",
        " a = 0 \n",
        " b = 1\n",
        "\n",
        " for l in range (n):\n",
        "    c = a+b\n",
        "    a = b\n",
        "    b = c\n",
        "\n",
        " return b\n",
        "for x in range(7):\n",
        "        print(Fibo(x))"
      ],
      "execution_count": 10,
      "outputs": [
        {
          "output_type": "stream",
          "name": "stdout",
          "text": [
            "1\n",
            "1\n",
            "2\n",
            "3\n",
            "5\n",
            "8\n",
            "13\n"
          ]
        }
      ]
    }
  ]
}